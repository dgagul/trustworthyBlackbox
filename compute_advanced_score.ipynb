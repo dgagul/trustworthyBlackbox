{
 "cells": [
  {
   "cell_type": "code",
   "execution_count": null,
   "metadata": {},
   "outputs": [],
   "source": [
    "import keras\n",
    "from keras.optimizers import Adam\n",
    "from synDS import propertiesScanner\n",
    "from synDS.generator import Generator\n",
    "from Score.helpers import *\n",
    "from Score.algorithms import trustworthiness\n",
    "tf.compat.v1.disable_eager_execution()"
   ]
  },
  {
   "cell_type": "code",
   "execution_count": null,
   "outputs": [],
   "source": [
    "# Todo: Specify evaluation scenario & decide if you want MUST or MAY\n",
    "scenario = \"creditrisk\" # diabetes or creditrisk\n",
    "generate_synDS = False # set to \"True\" for first execution, False to speed up evaluation if synDS already exists\n",
    "must = True # set to \"False\" to generate and compute Advanced Score MAY"
   ],
   "metadata": {
    "collapsed": false
   }
  },
  {
   "cell_type": "code",
   "execution_count": null,
   "outputs": [],
   "source": [
    "# ********** Load respective model and provide info about features ************\n",
    "if scenario == \"diabetes\":\n",
    "        if must:\n",
    "                solution = \"Solutions/S1DiabetesPredictionRF/AdvancedScoreMUST\"\n",
    "        else:\n",
    "                solution = \"Solutions/S1DiabetesPredictionRF/AdvancedScoreMAY\"\n",
    "        model = pickle.load(open(f\"{solution}/model.pkl\", \"rb\")) # RF\n",
    "        target_name = \"diabetes\"\n",
    "        ds_name = \"diabetes_prediction_dataset\"\n",
    "        categorical_name = [\"gender\", \"smoking_history\"]\n",
    "        data_types = ['categorical', 'discrete', 'categorical', 'categorical', 'categorical', 'continuous', 'continuous', 'discrete']\n",
    "elif scenario == \"creditrisk\":\n",
    "        if must:\n",
    "                solution = \"Solutions/S2HomeCreditDefaultRiskDNN/AdvancedScoreMUST\"\n",
    "        else:\n",
    "                solution = \"Solutions/S2HomeCreditDefaultRiskDNN/AdvancedScoreMAY\"\n",
    "        model = keras.models.load_model(f\"{solution}/model.keras\") # DNN\n",
    "        optimizer = Adam(learning_rate=0.001) # DNN\n",
    "        model.compile(loss=\"categorical_crossentropy\", optimizer=optimizer) # DNN\n",
    "        target_name = \"TARGET\"\n",
    "        ds_name = \"credit_risk\"\n",
    "        categorical_name = [\"CODE_GENDER\",\"FLAG_OWN_CAR\",\"FLAG_OWN_REALTY\",\"NAME_EDUCATION_TYPE\"]\n",
    "        data_types = ['categorical', 'categorical', 'categorical', 'continuous', 'continuous', 'categorical', 'discrete', 'discrete']\n",
    "else:\n",
    "        raise AssertionError(\"Check specifications: Evaluation scenario does not exist\")"
   ],
   "metadata": {
    "collapsed": false
   }
  },
  {
   "cell_type": "code",
   "execution_count": null,
   "outputs": [],
   "source": [
    "# ********** Get MUST Statistical Properties From User **************\n",
    "if generate_synDS:\n",
    "        data = pd.read_csv(f\"{'/'.join(solution.split('/')[0:-1])}/TrueScore/{ds_name}.csv\")\n",
    "        data = data.drop(target_name, axis=1)\n",
    "        feature_names, min_, max_, unique_values, mean, std, skew = propertiesScanner.scan(data)\n",
    "\n",
    "# ********** Generate And Label The Synthetic Dataset  ************\n",
    "        generator = Generator()\n",
    "        if must:\n",
    "                synDS_must = generator.generate_dataset_must(feature_names, data_types, solution, min_, max_, unique_values)\n",
    "                synDS = generator.label_synDS(model, synDS_must, categorical_name, target_name, True)\n",
    "                synDS.to_csv(f\"{solution}/synDS_must.csv\", index=False)\n",
    "        else:\n",
    "                synDS_may = generator.generate_dataset_may(feature_names, data_types, solution, min_, max_, unique_values, mean=mean, std=std, skew=skew)\n",
    "                synDS = generator.label_synDS(model, synDS_may, categorical_name, target_name, False)\n",
    "                synDS.to_csv(f\"{solution}/synDS_may.csv\", index=False)\n",
    "train = None\n",
    "if must:\n",
    "        test = pd.read_csv(f\"{solution}/synDS_must.csv\")\n",
    "else:\n",
    "        test = pd.read_csv(f\"{solution}/synDS_may.csv\")"
   ],
   "metadata": {
    "collapsed": false
   }
  },
  {
   "cell_type": "code",
   "execution_count": null,
   "metadata": {},
   "outputs": [],
   "source": [
    "# ********** Compute Score ************\n",
    "factsheet = json.load(open(f\"{solution}/factsheet.json\"))\n",
    "config_fairness = json.load(open(f\"Score/configs/mappings/fairness/default.json\"))\n",
    "config_exp = json.load(open(f\"Score/configs/mappings/explainability/default.json\"))\n",
    "config_rob = json.load(open(f\"Score/configs/mappings/robustness/default.json\"))\n",
    "config_met = json.load(open(f\"Score/configs/mappings/methodology/default.json\"))\n",
    "config_weights = json.load(open(f\"Score/configs/weights/default.json\"))\n",
    "solution_set_path = f\"{solution}/\"\n",
    "mappings_config = {}\n",
    "mappings_config[\"fairness\"] = config_fairness\n",
    "mappings_config[\"explainability\"] = config_exp\n",
    "mappings_config[\"robustness\"] = config_rob\n",
    "mappings_config[\"methodology\"] = config_met\n",
    "result = trustworthiness.get_final_score(model, train, test, config_weights, mappings_config, factsheet, solution_set_path, recalc=False)\n",
    "must_final_scores, must_results, must_properties = result"
   ]
  },
  {
   "cell_type": "code",
   "execution_count": null,
   "outputs": [],
   "source": [
    "# ********** Plotting for Report ************\n",
    "from Score.plot import *\n",
    "\n",
    "trust_score = trustworthiness.get_trust_score(must_final_scores, config_weights[\"pillars\"])\n",
    "\n",
    "data = {\"final_score\":must_final_scores,\n",
    "        \"results\":must_results,\n",
    "        \"trust_score\":trust_score,\n",
    "        \"properties\" : must_properties}\n",
    "\n",
    "final_score = data[\"final_score\"]\n",
    "pillars = list(final_score.keys())\n",
    "values = list(final_score.values())\n",
    "pillar_colors = ['#06d6a0', '#ffd166', '#ef476f', '#118ab2']\n",
    "title = \"Overall Trust Score {}/5\".format(trust_score)\n",
    "figname = \"overall.png\"\n",
    "\n",
    "draw_bar_plot(pillars, values, pillar_colors, title, figname, solution)\n",
    "draw_pillar_scores(data['results'], final_score, pillar_colors, solution)"
   ],
   "metadata": {
    "collapsed": false
   }
  }
 ],
 "metadata": {
  "kernelspec": {
   "display_name": "Python 3 (ipykernel)",
   "language": "python",
   "name": "python3"
  },
  "language_info": {
   "codemirror_mode": {
    "name": "ipython",
    "version": 3
   },
   "file_extension": ".py",
   "mimetype": "text/x-python",
   "name": "python",
   "nbconvert_exporter": "python",
   "pygments_lexer": "ipython3",
   "version": "3.9.0"
  }
 },
 "nbformat": 4,
 "nbformat_minor": 1
}
